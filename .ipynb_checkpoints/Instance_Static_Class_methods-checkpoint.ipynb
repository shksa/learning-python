{
 "cells": [
  {
   "cell_type": "code",
   "execution_count": 1,
   "metadata": {
    "collapsed": true
   },
   "outputs": [],
   "source": [
    "class foo:\n",
    "    \n",
    "    def function(self):\n",
    "        return 'a regular function called', self\n",
    "    \n",
    "    @staticmethod\n",
    "    def static_method():\n",
    "        return 'static method called'\n",
    "    \n",
    "    @classmethod\n",
    "    def class_method(cls):\n",
    "        return 'class method called', cls"
   ]
  },
  {
   "cell_type": "code",
   "execution_count": 2,
   "metadata": {},
   "outputs": [
    {
     "data": {
      "text/plain": [
       "mappingproxy({'__dict__': <attribute '__dict__' of 'foo' objects>,\n",
       "              '__doc__': None,\n",
       "              '__module__': '__main__',\n",
       "              '__weakref__': <attribute '__weakref__' of 'foo' objects>,\n",
       "              'class_method': <classmethod at 0x7f17faf6a9e8>,\n",
       "              'function': <function __main__.foo.function>,\n",
       "              'static_method': <staticmethod at 0x7f17faf6a978>})"
      ]
     },
     "execution_count": 2,
     "metadata": {},
     "output_type": "execute_result"
    }
   ],
   "source": [
    "foo.__dict__"
   ]
  },
  {
   "cell_type": "markdown",
   "metadata": {},
   "source": [
    "## Instance Methods"
   ]
  },
  {
   "cell_type": "markdown",
   "metadata": {},
   "source": [
    "<font size=4px color=black>**The first function in \"foo\" class called \"function\" defines a regular \"method\" for an instance of the class.**<br><br>This function object when ***accessed*** through an instance of the ***foo*** class returns the ***instance or bound method*** which has an attribute ***\\__func\\__*** which is the underlying function object implementing that method.<br><br>The ***instance method*** has the ***\\__self\\__*** attribute which refers to the instance of the method and through that, the method can freely access all attributes of the instance. Through the ***self*** parameter ***instance method*** can modify the ***state of the instance***.</font>"
   ]
  },
  {
   "cell_type": "markdown",
   "metadata": {},
   "source": [
    "## Class Methods"
   ]
  },
  {
   "cell_type": "markdown",
   "metadata": {},
   "source": [
    "<font size=4px>The second function in the foo class is a ***Class method object***. <font color=darkred>**It is not a regular function object, but rather a special kind of function object.** <br><br>**A class method attribute when referenced through a class or its instance is transformed to an instance method where it's \\__self\\__ attribute is the class object itself.**<br> **As the \\__self\\__ attribute is the class object, this method is bound to the class object.**</font><br><br>It can be called on either a class **C.f()** or an instance **C().F()**.The class method has the **cls** parameter and so it can modify the ***state of the class*** that applies accross all instances of the class.</font>"
   ]
  },
  {
   "cell_type": "markdown",
   "metadata": {},
   "source": [
    "## Static Methods"
   ]
  },
  {
   "cell_type": "markdown",
   "metadata": {},
   "source": [
    "<font size=4px>A ***static method*** does not recieve an implicit first argument i.e neither **self** nor **cls** .<br><br>It can be called on the class **C.f()** or an instance **C().f()**.<br><br> Static methods **cannot modify the state of either the call or the instance**.</font>"
   ]
  },
  {
   "cell_type": "markdown",
   "metadata": {},
   "source": [
    "### Instance method"
   ]
  },
  {
   "cell_type": "code",
   "execution_count": 3,
   "metadata": {
    "collapsed": true
   },
   "outputs": [],
   "source": [
    "inst = foo()"
   ]
  },
  {
   "cell_type": "code",
   "execution_count": 4,
   "metadata": {},
   "outputs": [
    {
     "data": {
      "text/plain": [
       "<bound method foo.function of <__main__.foo object at 0x7f17faf87198>>"
      ]
     },
     "execution_count": 4,
     "metadata": {},
     "output_type": "execute_result"
    }
   ],
   "source": [
    "instance_method = inst.function\n",
    "instance_method"
   ]
  },
  {
   "cell_type": "code",
   "execution_count": 5,
   "metadata": {},
   "outputs": [
    {
     "data": {
      "text/plain": [
       "('a regular function called', <__main__.foo at 0x7f17faf87198>)"
      ]
     },
     "execution_count": 5,
     "metadata": {},
     "output_type": "execute_result"
    }
   ],
   "source": [
    "instance_method()"
   ]
  },
  {
   "cell_type": "markdown",
   "metadata": {},
   "source": [
    "### Class method"
   ]
  },
  {
   "cell_type": "code",
   "execution_count": 24,
   "metadata": {},
   "outputs": [
    {
     "name": "stdout",
     "output_type": "stream",
     "text": [
      "<bound method foo.class_method of <class '__main__.foo'>>\n",
      "<bound method foo.class_method of <class '__main__.foo'>>\n"
     ]
    }
   ],
   "source": [
    "#Referncing <classmethod> object through the instance.\n",
    "tr_class_method_1 = inst.class_method \n",
    "#Referncing <classmethod> object through the class.\n",
    "tr_class_method_2 = foo.class_method \n",
    "print(tr_class_method_1)\n",
    "print(tr_class_method_2)"
   ]
  },
  {
   "cell_type": "code",
   "execution_count": 25,
   "metadata": {},
   "outputs": [
    {
     "data": {
      "text/plain": [
       "False"
      ]
     },
     "execution_count": 25,
     "metadata": {},
     "output_type": "execute_result"
    }
   ],
   "source": [
    "tr_class_method_2 is tr_class_method_1"
   ]
  },
  {
   "cell_type": "code",
   "execution_count": 26,
   "metadata": {},
   "outputs": [
    {
     "name": "stdout",
     "output_type": "stream",
     "text": [
      "<class '__main__.foo'> <class '__main__.foo'>\n"
     ]
    }
   ],
   "source": [
    "# __self__ attribute of the transformed class method.\n",
    "print(tr_class_method_1.__self__, tr_class_method_2.__self__)"
   ]
  },
  {
   "cell_type": "code",
   "execution_count": 27,
   "metadata": {},
   "outputs": [
    {
     "name": "stdout",
     "output_type": "stream",
     "text": [
      "<function foo.class_method at 0x7f17faf77488> <function foo.class_method at 0x7f17faf77488>\n"
     ]
    }
   ],
   "source": [
    "# __func__ attribute of the transformed class method.\n",
    "print(tr_class_method_1.__func__, tr_class_method_2.__func__)"
   ]
  },
  {
   "cell_type": "code",
   "execution_count": 28,
   "metadata": {},
   "outputs": [
    {
     "name": "stdout",
     "output_type": "stream",
     "text": [
      "('class method called', <class '__main__.foo'>)\n",
      "('class method called', <class '__main__.foo'>)\n"
     ]
    }
   ],
   "source": [
    "# Calling the transformed class method in two equivilant ways\n",
    "print(tr_class_method_1())\n",
    "print(tr_class_method_1.__func__(tr_class_method_1.__self__))"
   ]
  },
  {
   "cell_type": "markdown",
   "metadata": {},
   "source": [
    "### Static method"
   ]
  },
  {
   "cell_type": "code",
   "execution_count": 29,
   "metadata": {},
   "outputs": [
    {
     "data": {
      "text/plain": [
       "<function __main__.foo.static_method>"
      ]
     },
     "execution_count": 29,
     "metadata": {},
     "output_type": "execute_result"
    }
   ],
   "source": [
    "static_method = inst.static_method\n",
    "static_method"
   ]
  },
  {
   "cell_type": "code",
   "execution_count": 30,
   "metadata": {},
   "outputs": [
    {
     "data": {
      "text/plain": [
       "<function __main__.foo.static_method>"
      ]
     },
     "execution_count": 30,
     "metadata": {},
     "output_type": "execute_result"
    }
   ],
   "source": [
    "another_static_method = foo.static_method\n",
    "another_static_method"
   ]
  },
  {
   "cell_type": "code",
   "execution_count": 31,
   "metadata": {},
   "outputs": [
    {
     "data": {
      "text/plain": [
       "True"
      ]
     },
     "execution_count": 31,
     "metadata": {},
     "output_type": "execute_result"
    }
   ],
   "source": [
    "another_static_method is static_method"
   ]
  },
  {
   "cell_type": "code",
   "execution_count": 32,
   "metadata": {},
   "outputs": [
    {
     "data": {
      "text/plain": [
       "'static method called'"
      ]
     },
     "execution_count": 32,
     "metadata": {},
     "output_type": "execute_result"
    }
   ],
   "source": [
    "static_method()"
   ]
  },
  {
   "cell_type": "markdown",
   "metadata": {},
   "source": [
    "<font size=4px>***Static method*** is not ***bound*** to either class or instance.<br>***Static method*** is a ***normal function*** in the namespace of the class.<br> ***Static method*** can be called without passing any argument unlike ***instance and class methods***.<br>***Static method*** can be accessed through either a class or the instance, and ***it can be most useful for accessing the attributes of the class.***<br><br>***You make a normal method into a static method so that this method will not have any complusion to have atleast one parameter that refers to the instance.***</font>"
   ]
  },
  {
   "cell_type": "markdown",
   "metadata": {},
   "source": [
    "# Why and when to use instance, static and class methods?"
   ]
  },
  {
   "cell_type": "markdown",
   "metadata": {},
   "source": [
    "> <font size=4px>***Instance methods*** are used to access ***instance attributes*** and therefore can be used to ***change the state of the instance object***. </font>"
   ]
  },
  {
   "cell_type": "markdown",
   "metadata": {},
   "source": [
    "> <font size=4px>***Static methods*** are used to create methods that do not have the \"atleast one parameter\" rule attached to them and can be called with either the class or the instance to the same effect.</font>"
   ]
  },
  {
   "cell_type": "markdown",
   "metadata": {},
   "source": [
    "> <font size=4px>***Class methods*** are used to access the ***class attributes*** and therefore can be used to ***change the state of the class object***.</font>"
   ]
  },
  {
   "cell_type": "markdown",
   "metadata": {},
   "source": [
    "## Examples:-"
   ]
  },
  {
   "cell_type": "markdown",
   "metadata": {},
   "source": [
    "<font size=4px>We need a method ***RobotInstances*** which returns the number of robot instances created, we can write an instance method for this as the instance object has access to the ***class attribute \\__counter__*** but there is a problem with this approach, which is that when you want to call this method through the class object you have to pass the ***instance object*** as the first argument ***explicitly***, and also you cannot call the method through the class before creating any instances.<br><br>A ***class method*** or a ***static method*** solves all the above problems.</font>"
   ]
  },
  {
   "cell_type": "code",
   "execution_count": 34,
   "metadata": {},
   "outputs": [
    {
     "name": "stdout",
     "output_type": "stream",
     "text": [
      "(<class '__main__.Robot'>, 0)\n",
      "(<class '__main__.Robot'>, 1)\n",
      "(<class '__main__.Robot'>, 2)\n",
      "(<class '__main__.Robot'>, 2)\n"
     ]
    }
   ],
   "source": [
    "class Robot:\n",
    "    __counter = 0\n",
    "    \n",
    "    def __init__(self):\n",
    "        type(self).__counter += 1 # or self.__class__.__counter += 1\n",
    "    \n",
    "    '''\n",
    "    @classmethod\n",
    "    def RobotInstances(cls):\n",
    "        return cls, cls.__counter \n",
    "    '''\n",
    "    \n",
    "    @staticmethod\n",
    "    def RobotInstances():\n",
    "        return Robot, Robot.__counter\n",
    "        \n",
    "\n",
    "if __name__ == \"__main__\":\n",
    "    print(Robot.RobotInstances())\n",
    "    x = Robot()\n",
    "    print(x.RobotInstances())\n",
    "    y = Robot()\n",
    "    print(x.RobotInstances())\n",
    "    print(Robot.RobotInstances())"
   ]
  },
  {
   "cell_type": "markdown",
   "metadata": {},
   "source": [
    "## Class method usecase :- Factory functions"
   ]
  },
  {
   "cell_type": "markdown",
   "metadata": {},
   "source": [
    "<font size=4px>As class methods have the **cls** parameter which is a reference to the **class object**, we can use this class object to create new instances.</font><br><br><font color=darkred size=4px>Ex: A pizza factory which needs to produce 2 kinds of pizzas. (1) Margharita (2) Proscuitto. Margharita and proscuitto are different by the ingredients used. <br><br> (1) Naive way of creating class instances is using functions that are written as attributes of the same class so that all functions are packaged under one class</font>"
   ]
  },
  {
   "cell_type": "code",
   "execution_count": 55,
   "metadata": {
    "collapsed": true
   },
   "outputs": [],
   "source": [
    "class Pizza:\n",
    "    def __init__(self, *ingredients):\n",
    "        self.ingredients = ingredients\n",
    "    \n",
    "    def Margharita():\n",
    "        return Pizza('mozzarella', 'tomatoes')\n",
    "    \n",
    "    def Proscuitto():\n",
    "        return Pizza('mozzarella', 'tomatoes', 'ham')\n",
    "    \n",
    "    def __repr__(self):\n",
    "        return 'Pizza{}'.format(self.ingredients)"
   ]
  },
  {
   "cell_type": "code",
   "execution_count": 56,
   "metadata": {},
   "outputs": [
    {
     "data": {
      "text/plain": [
       "Pizza('mozzarella', 'tomatoes')"
      ]
     },
     "execution_count": 56,
     "metadata": {},
     "output_type": "execute_result"
    }
   ],
   "source": [
    "Pizza.Margharita()"
   ]
  },
  {
   "cell_type": "code",
   "execution_count": 57,
   "metadata": {},
   "outputs": [
    {
     "data": {
      "text/plain": [
       "Pizza('mozzarella', 'tomatoes', 'ham')"
      ]
     },
     "execution_count": 57,
     "metadata": {},
     "output_type": "execute_result"
    }
   ],
   "source": [
    "Pizza.Proscuitto()"
   ]
  },
  {
   "cell_type": "markdown",
   "metadata": {},
   "source": [
    "<font size=4px color=red>(2) **Using class method objects.**</font>"
   ]
  },
  {
   "cell_type": "code",
   "execution_count": 58,
   "metadata": {
    "collapsed": true
   },
   "outputs": [],
   "source": [
    "class Pizza:\n",
    "    def __init__(self, *ingredients):\n",
    "        self.ingredients = ingredients\n",
    "    \n",
    "    @classmethod\n",
    "    def Margharita(cls):\n",
    "        return cls('mozzarella', 'tomatoes')\n",
    "    \n",
    "    @classmethod\n",
    "    def Proscuitto(cls):\n",
    "        return cls('mozzarella', 'tomatoes', 'ham')\n",
    "    \n",
    "    def __repr__(self):\n",
    "        return 'Pizza{}'.format(self.ingredients)"
   ]
  },
  {
   "cell_type": "code",
   "execution_count": 59,
   "metadata": {},
   "outputs": [
    {
     "data": {
      "text/plain": [
       "Pizza('mozzarella', 'tomatoes')"
      ]
     },
     "execution_count": 59,
     "metadata": {},
     "output_type": "execute_result"
    }
   ],
   "source": [
    "Pizza.Margharita()"
   ]
  },
  {
   "cell_type": "code",
   "execution_count": 60,
   "metadata": {},
   "outputs": [
    {
     "data": {
      "text/plain": [
       "Pizza('mozzarella', 'tomatoes', 'ham')"
      ]
     },
     "execution_count": 60,
     "metadata": {},
     "output_type": "execute_result"
    }
   ],
   "source": [
    "Pizza.Proscuitto()"
   ]
  },
  {
   "cell_type": "markdown",
   "metadata": {},
   "source": [
    "<font size=4px color=darkblue>The second method of using class methods is preferred because <br><br> (1) When we decide to change the name of the class, we only need to change the header of the class definition. <br> (2) It can serve as a base class when inherited by sub classes.</font>"
   ]
  }
 ],
 "metadata": {
  "kernelspec": {
   "display_name": "Python 3",
   "language": "python",
   "name": "python3"
  },
  "language_info": {
   "codemirror_mode": {
    "name": "ipython",
    "version": 3
   },
   "file_extension": ".py",
   "mimetype": "text/x-python",
   "name": "python",
   "nbconvert_exporter": "python",
   "pygments_lexer": "ipython3",
   "version": "3.6.1"
  }
 },
 "nbformat": 4,
 "nbformat_minor": 2
}
