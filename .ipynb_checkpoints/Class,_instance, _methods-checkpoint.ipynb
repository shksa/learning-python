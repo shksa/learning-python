{
 "cells": [
  {
   "cell_type": "markdown",
   "metadata": {},
   "source": [
    "## Class definition"
   ]
  },
  {
   "cell_type": "markdown",
   "metadata": {},
   "source": [
    "<font size=4px>The simplest form of class definition looks like this:</font>"
   ]
  },
  {
   "cell_type": "markdown",
   "metadata": {},
   "source": [
    "```python\n",
    "class ClassName:\n",
    "    <statement-1>\n",
    "    .\n",
    "    .\n",
    "    .\n",
    "    <statement-N>\n",
    "```"
   ]
  },
  {
   "cell_type": "markdown",
   "metadata": {},
   "source": [
    "<font size=4px>--> Class definitions, like function definitions (def statements) must be executed before they have any effect.<br><br>--> When a class definition is entered, a new namespace is created, and used as the local scope — thus, all assignments to local variables go into this new namespace. In particular, function definitions bind the name of the new function here.\n",
    "</font>"
   ]
  },
  {
   "cell_type": "markdown",
   "metadata": {},
   "source": [
    "<font size=5px>**Class objects**</font><br><br>\n",
    "<font size=4px color=darkred>**These objects normally act as factories for new instances of themselves.**<br></font><font size=4px>Class objects support two kinds of operations: **Attribute references and Instantiation.**\n",
    "</font><br><br>\n",
    "\n",
    "<font size=4px>**Attribute references : ** Attribute references use the standard syntax used for all attribute references in Python: ***obj.name***. Valid attribute names are all the names that were in the class’s namespace when the class object was created. <br> **Note:** Attribute can be any name after the dot, a function object's name or a data container's name.<br>-->> <font color=darkred>**\\__dict\\__ is the dictionary containing the class’s namespace.**</font></font><br><br>\n",
    "\n",
    "<font size=4px>**Instantiation : ** The instantiation operation (“calling” a class object) **creates an empty object.** Many classes like to create objects with instances customized to a specific initial state. Therefore a class may define a special method named __init__()</font>"
   ]
  },
  {
   "cell_type": "markdown",
   "metadata": {},
   "source": [
    "<font size=5px> **Instance objects**</font>\n",
    "<br><br>\n",
    "<font size=4px>The only operations understood by instance objects are **attribute references.** <br>There are two kinds of attribute references :- **data attribute reference and method reference.**<br><br><font color=darkred>**Remember that the new instance objects are empty objects unless they are initialized by the constructor. The attributes of the class like function objects and data objects are not copied to the instance objects, and therefore the instance object is empty.**</font>"
   ]
  },
  {
   "cell_type": "markdown",
   "metadata": {},
   "source": [
    "<font size=5px>**Instance Method object**</font><br><br>\n",
    "<font size=4px>When an instance attribute is referenced that isn’t a data attribute, its class is searched. If the name denotes a valid class attribute that is a function object, a method object is created by packing (pointers to) the instance object and the function object just found together in an abstract object: this is the method object. When the method object is called with an argument list, a new argument list is constructed from the instance object and the argument list, and the function object is called with this new argument list.</font><br><br>\n",
    "\n",
    "<font size=4px>**IMPORTANT : **<br><br>**(1)** When an instance method object is created by retrieving a user-defined function object from a class via one of its instances, its **\\__self\\__** attribute is the instance, **and the method object is said to be bound.** The new method’s **\\__func\\__** attribute is the original function object.<br><br>**(2)** When an instance method object is called, the underlying function (**\\__func\\__**) is called, inserting the class instance (**\\__self\\__**) in front of the argument list.<br><br>**(3)** Note that the transformation from function object to instance method object happens each time the attribute is retrieved from the instance. Also notice that this transformation only happens for user-defined functions; other callable objects (and all non-callable objects) are retrieved without transformation.<br><br>**(4)** It is also important to note that user-defined functions which are attributes of a class instance are not converted to bound methods; this only happens when the function is an attribute of the class.</font>"
   ]
  },
  {
   "cell_type": "markdown",
   "metadata": {},
   "source": [
    "# Summary :-"
   ]
  },
  {
   "cell_type": "markdown",
   "metadata": {},
   "source": [
    "> <font size=5px>**Instance attribute reference**</font><br><br><font size=4px>**(i)** A class instance has a namespace implemented as a dictionary which is the first place in which attribute references are searched.<br>**(ii)** When an attribute is not found there, and the instance’s class has an attribute by that name, the search continues with the class attributes. <br>**(iii) If a class attribute is found that is a user-defined function object, it is transformed into an instance method object whose \\__self\\__ attribute is the instance. Static method and class method objects are also transformed.**<br><font color=darkred>**(iv)** Special attributes: **\\__dict\\__** is the attribute dictionary; **\\__class\\__** is the instance’s class.</font>\n",
    "</font>"
   ]
  },
  {
   "cell_type": "markdown",
   "metadata": {},
   "source": [
    "> <font size=5px>**Class attribute references**<br><br><font size=4px>When a class attribute reference (for class C, say) would yield a class method object, it is transformed into an instance method object whose __self__ attributes is C. When it would yield a static method object, it is transformed into the object wrapped by the static method object.</font></font>"
   ]
  }
 ],
 "metadata": {
  "kernelspec": {
   "display_name": "Python 3",
   "language": "python",
   "name": "python3"
  },
  "language_info": {
   "codemirror_mode": {
    "name": "ipython",
    "version": 3
   },
   "file_extension": ".py",
   "mimetype": "text/x-python",
   "name": "python",
   "nbconvert_exporter": "python",
   "pygments_lexer": "ipython3",
   "version": "3.6.1"
  }
 },
 "nbformat": 4,
 "nbformat_minor": 2
}
