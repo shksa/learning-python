{
 "cells": [
  {
   "cell_type": "code",
   "execution_count": 1,
   "metadata": {
    "collapsed": true
   },
   "outputs": [],
   "source": [
    "a = 'jamie vardy'"
   ]
  },
  {
   "cell_type": "code",
   "execution_count": 2,
   "metadata": {
    "collapsed": true
   },
   "outputs": [],
   "source": [
    "class foo:\n",
    "    rule = 'never sleep'\n",
    "    def __init__(self, name):\n",
    "        self.name = name\n",
    "    def google(self):\n",
    "        return 'instance method called', self"
   ]
  },
  {
   "cell_type": "code",
   "execution_count": 3,
   "metadata": {
    "collapsed": true
   },
   "outputs": [],
   "source": [
    "b = 'harry kane', 'garry sullivan'"
   ]
  },
  {
   "cell_type": "code",
   "execution_count": 7,
   "metadata": {
    "collapsed": true
   },
   "outputs": [],
   "source": [
    "def function(*args, **kwargs):\n",
    "    print(a)\n",
    "    print(b)\n",
    "    print(foo)\n",
    "    print(foo.google)\n",
    "    print(foo(args).google())"
   ]
  },
  {
   "cell_type": "code",
   "execution_count": 8,
   "metadata": {},
   "outputs": [
    {
     "name": "stdout",
     "output_type": "stream",
     "text": [
      "jamie vardy\n",
      "('harry kane', 'garry sullivan')\n",
      "<class '__main__.foo'>\n",
      "<function foo.google at 0x7f1aebec4d90>\n",
      "('instance method called', <__main__.foo object at 0x7f1aebe4d6a0>)\n"
     ]
    }
   ],
   "source": [
    "function('messi')"
   ]
  },
  {
   "cell_type": "markdown",
   "metadata": {},
   "source": [
    "## Function object's *special* attributes :-"
   ]
  },
  {
   "cell_type": "markdown",
   "metadata": {},
   "source": [
    "<font size=4px color=blue>(1) **\\__code\\__**</font>"
   ]
  },
  {
   "cell_type": "code",
   "execution_count": 17,
   "metadata": {},
   "outputs": [
    {
     "name": "stdout",
     "output_type": "stream",
     "text": [
      "<code object function at 0x7f1aebe4b540, file \"<ipython-input-7-d640e37bc055>\", line 1>\n",
      "\n",
      "----------------------------------------------------------------------------------------\n",
      "\n",
      "jamie vardy\n",
      "('harry kane', 'garry sullivan')\n",
      "<class '__main__.foo'>\n",
      "<function foo.google at 0x7f1aebec4d90>\n",
      "('instance method called', <__main__.foo object at 0x7f1aebd62a20>)\n"
     ]
    }
   ],
   "source": [
    "print(function.__code__)\n",
    "print('\\n----------------------------------------------------------------------------------------\\n')\n",
    "eval(function.__code__)"
   ]
  },
  {
   "cell_type": "markdown",
   "metadata": {},
   "source": [
    "<font size=4px color=blue>(2) **\\__globals\\__**</font>"
   ]
  },
  {
   "cell_type": "code",
   "execution_count": 18,
   "metadata": {},
   "outputs": [
    {
     "data": {
      "text/plain": [
       "{'In': ['',\n",
       "  \"a = 'jamie vardy'\",\n",
       "  \"class foo:\\n    rule = 'never sleep'\\n    def __init__(self, name):\\n        self.name = name\\n    def google(self):\\n        return 'instance method called', self\",\n",
       "  \"b = 'harry kane', 'garry sullivan'\",\n",
       "  'def function(*args, **kwargs):\\n    print(a)\\n    print(b)\\n    print(foo)\\n    print(foo.google)\\n    print(foo().google())',\n",
       "  'function()',\n",
       "  \"def function(*args, **kwargs):\\n    print(a)\\n    print(b)\\n    print(foo)\\n    print(foo.google)\\n    print(foo('messi').google())\",\n",
       "  'def function(*args, **kwargs):\\n    print(a)\\n    print(b)\\n    print(foo)\\n    print(foo.google)\\n    print(foo(args).google())',\n",
       "  \"function('messi')\",\n",
       "  'function.__code__',\n",
       "  'eval(function.__code__)',\n",
       "  'print(function.__code__)',\n",
       "  'print(function.__code__)\\neval(function.__code__)',\n",
       "  \"print(function.__code__)\\nprint('--------------------')\\neval(function.__code__)\",\n",
       "  \"print(function.__code__)\\nprint('---------------------------------------------------------------------------------')\\neval(function.__code__)\",\n",
       "  \"print(function.__code__)\\nprint('--------------------------------------------------------------------------------------')\\neval(function.__code__)\",\n",
       "  \"print(function.__code__)\\nprint('----------------------------------------------------------------------------------------')\\neval(function.__code__)\",\n",
       "  \"print(function.__code__)\\nprint('\\\\n----------------------------------------------------------------------------------------\\\\n')\\neval(function.__code__)\",\n",
       "  'function.__globals__'],\n",
       " 'Out': {9: <code object function at 0x7f1aebe4b540, file \"<ipython-input-7-d640e37bc055>\", line 1>},\n",
       " '_': <code object function at 0x7f1aebe4b540, file \"<ipython-input-7-d640e37bc055>\", line 1>,\n",
       " '_9': <code object function at 0x7f1aebe4b540, file \"<ipython-input-7-d640e37bc055>\", line 1>,\n",
       " '__': '',\n",
       " '___': '',\n",
       " '__builtin__': <module 'builtins' (built-in)>,\n",
       " '__builtins__': <module 'builtins' (built-in)>,\n",
       " '__doc__': 'Automatically created module for IPython interactive environment',\n",
       " '__loader__': None,\n",
       " '__name__': '__main__',\n",
       " '__package__': None,\n",
       " '__spec__': None,\n",
       " '_dh': ['/home/nigga/Desktop/python_oops'],\n",
       " '_i': \"print(function.__code__)\\nprint('\\\\n----------------------------------------------------------------------------------------\\\\n')\\neval(function.__code__)\",\n",
       " '_i1': \"a = 'jamie vardy'\",\n",
       " '_i10': 'eval(function.__code__)',\n",
       " '_i11': 'print(function.__code__)',\n",
       " '_i12': 'print(function.__code__)\\neval(function.__code__)',\n",
       " '_i13': \"print(function.__code__)\\nprint('--------------------')\\neval(function.__code__)\",\n",
       " '_i14': \"print(function.__code__)\\nprint('---------------------------------------------------------------------------------')\\neval(function.__code__)\",\n",
       " '_i15': \"print(function.__code__)\\nprint('--------------------------------------------------------------------------------------')\\neval(function.__code__)\",\n",
       " '_i16': \"print(function.__code__)\\nprint('----------------------------------------------------------------------------------------')\\neval(function.__code__)\",\n",
       " '_i17': \"print(function.__code__)\\nprint('\\\\n----------------------------------------------------------------------------------------\\\\n')\\neval(function.__code__)\",\n",
       " '_i18': 'function.__globals__',\n",
       " '_i2': \"class foo:\\n    rule = 'never sleep'\\n    def __init__(self, name):\\n        self.name = name\\n    def google(self):\\n        return 'instance method called', self\",\n",
       " '_i3': \"b = 'harry kane', 'garry sullivan'\",\n",
       " '_i4': 'def function(*args, **kwargs):\\n    print(a)\\n    print(b)\\n    print(foo)\\n    print(foo.google)\\n    print(foo().google())',\n",
       " '_i5': 'function()',\n",
       " '_i6': \"def function(*args, **kwargs):\\n    print(a)\\n    print(b)\\n    print(foo)\\n    print(foo.google)\\n    print(foo('messi').google())\",\n",
       " '_i7': 'def function(*args, **kwargs):\\n    print(a)\\n    print(b)\\n    print(foo)\\n    print(foo.google)\\n    print(foo(args).google())',\n",
       " '_i8': \"function('messi')\",\n",
       " '_i9': 'function.__code__',\n",
       " '_ih': ['',\n",
       "  \"a = 'jamie vardy'\",\n",
       "  \"class foo:\\n    rule = 'never sleep'\\n    def __init__(self, name):\\n        self.name = name\\n    def google(self):\\n        return 'instance method called', self\",\n",
       "  \"b = 'harry kane', 'garry sullivan'\",\n",
       "  'def function(*args, **kwargs):\\n    print(a)\\n    print(b)\\n    print(foo)\\n    print(foo.google)\\n    print(foo().google())',\n",
       "  'function()',\n",
       "  \"def function(*args, **kwargs):\\n    print(a)\\n    print(b)\\n    print(foo)\\n    print(foo.google)\\n    print(foo('messi').google())\",\n",
       "  'def function(*args, **kwargs):\\n    print(a)\\n    print(b)\\n    print(foo)\\n    print(foo.google)\\n    print(foo(args).google())',\n",
       "  \"function('messi')\",\n",
       "  'function.__code__',\n",
       "  'eval(function.__code__)',\n",
       "  'print(function.__code__)',\n",
       "  'print(function.__code__)\\neval(function.__code__)',\n",
       "  \"print(function.__code__)\\nprint('--------------------')\\neval(function.__code__)\",\n",
       "  \"print(function.__code__)\\nprint('---------------------------------------------------------------------------------')\\neval(function.__code__)\",\n",
       "  \"print(function.__code__)\\nprint('--------------------------------------------------------------------------------------')\\neval(function.__code__)\",\n",
       "  \"print(function.__code__)\\nprint('----------------------------------------------------------------------------------------')\\neval(function.__code__)\",\n",
       "  \"print(function.__code__)\\nprint('\\\\n----------------------------------------------------------------------------------------\\\\n')\\neval(function.__code__)\",\n",
       "  'function.__globals__'],\n",
       " '_ii': \"print(function.__code__)\\nprint('----------------------------------------------------------------------------------------')\\neval(function.__code__)\",\n",
       " '_iii': \"print(function.__code__)\\nprint('--------------------------------------------------------------------------------------')\\neval(function.__code__)\",\n",
       " '_oh': {9: <code object function at 0x7f1aebe4b540, file \"<ipython-input-7-d640e37bc055>\", line 1>},\n",
       " 'a': 'jamie vardy',\n",
       " 'b': ('harry kane', 'garry sullivan'),\n",
       " 'exit': <IPython.core.autocall.ZMQExitAutocall at 0x7f1aebfcaef0>,\n",
       " 'foo': __main__.foo,\n",
       " 'function': <function __main__.function>,\n",
       " 'get_ipython': <bound method InteractiveShell.get_ipython of <ipykernel.zmqshell.ZMQInteractiveShell object at 0x7f1aec001978>>,\n",
       " 'quit': <IPython.core.autocall.ZMQExitAutocall at 0x7f1aebfcaef0>}"
      ]
     },
     "execution_count": 18,
     "metadata": {},
     "output_type": "execute_result"
    }
   ],
   "source": [
    "function.__globals__"
   ]
  },
  {
   "cell_type": "markdown",
   "metadata": {},
   "source": [
    "<font size=4px color=blue>(2) **\\__dict\\__**</font>"
   ]
  },
  {
   "cell_type": "code",
   "execution_count": 19,
   "metadata": {},
   "outputs": [
    {
     "data": {
      "text/plain": [
       "{}"
      ]
     },
     "execution_count": 19,
     "metadata": {},
     "output_type": "execute_result"
    }
   ],
   "source": [
    "function.__dict__"
   ]
  },
  {
   "cell_type": "code",
   "execution_count": 20,
   "metadata": {
    "collapsed": true
   },
   "outputs": [],
   "source": [
    "function.attr = 'docky'"
   ]
  },
  {
   "cell_type": "code",
   "execution_count": 21,
   "metadata": {},
   "outputs": [
    {
     "data": {
      "text/plain": [
       "{'attr': 'docky'}"
      ]
     },
     "execution_count": 21,
     "metadata": {},
     "output_type": "execute_result"
    }
   ],
   "source": [
    "function.__dict__"
   ]
  }
 ],
 "metadata": {
  "kernelspec": {
   "display_name": "Python 3",
   "language": "python",
   "name": "python3"
  },
  "language_info": {
   "codemirror_mode": {
    "name": "ipython",
    "version": 3
   },
   "file_extension": ".py",
   "mimetype": "text/x-python",
   "name": "python",
   "nbconvert_exporter": "python",
   "pygments_lexer": "ipython3",
   "version": "3.6.1"
  }
 },
 "nbformat": 4,
 "nbformat_minor": 2
}
